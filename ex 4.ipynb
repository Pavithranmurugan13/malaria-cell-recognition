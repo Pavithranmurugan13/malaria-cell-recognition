{
 "cells": [
  {
   "cell_type": "code",
   "execution_count": 1,
   "id": "63336a59",
   "metadata": {
    "scrolled": true
   },
   "outputs": [
    {
     "name": "stdout",
     "output_type": "stream",
     "text": [
      "\u001b[33mWARNING: Ignoring invalid distribution -ensorflow (/usr/local/lib/python3.10/dist-packages)\u001b[0m\u001b[33m\n",
      "\u001b[0mCollecting tensorflow==2.12.0\n",
      "  Obtaining dependency information for tensorflow==2.12.0 from https://files.pythonhosted.org/packages/3f/b2/33372601ed71fb41049642f8f6e1e142215e8b5c3463df434fc8885db278/tensorflow-2.12.0-cp310-cp310-manylinux_2_17_x86_64.manylinux2014_x86_64.whl.metadata\n",
      "  Using cached tensorflow-2.12.0-cp310-cp310-manylinux_2_17_x86_64.manylinux2014_x86_64.whl.metadata (3.4 kB)\n",
      "Requirement already satisfied: absl-py>=1.0.0 in /usr/local/lib/python3.10/dist-packages (from tensorflow==2.12.0) (1.0.0)\n",
      "Requirement already satisfied: astunparse>=1.6.0 in /usr/local/lib/python3.10/dist-packages (from tensorflow==2.12.0) (1.6.3)\n",
      "Requirement already satisfied: flatbuffers>=2.0 in /usr/local/lib/python3.10/dist-packages (from tensorflow==2.12.0) (23.5.26)\n",
      "Requirement already satisfied: gast<=0.4.0,>=0.2.1 in /usr/local/lib/python3.10/dist-packages (from tensorflow==2.12.0) (0.4.0)\n",
      "Requirement already satisfied: google-pasta>=0.1.1 in /usr/local/lib/python3.10/dist-packages (from tensorflow==2.12.0) (0.2.0)\n",
      "Requirement already satisfied: grpcio<2.0,>=1.24.3 in /usr/local/lib/python3.10/dist-packages (from tensorflow==2.12.0) (1.55.0)\n",
      "Requirement already satisfied: h5py>=2.9.0 in /usr/local/lib/python3.10/dist-packages (from tensorflow==2.12.0) (3.7.0)\n",
      "Requirement already satisfied: jax>=0.3.15 in /usr/local/lib/python3.10/dist-packages (from tensorflow==2.12.0) (0.4.6)\n",
      "Requirement already satisfied: keras<2.13,>=2.12.0 in /usr/local/lib/python3.10/dist-packages (from tensorflow==2.12.0) (2.12.0)\n",
      "Requirement already satisfied: libclang>=13.0.0 in /usr/local/lib/python3.10/dist-packages (from tensorflow==2.12.0) (16.0.0)\n",
      "Requirement already satisfied: numpy<1.24,>=1.22 in /usr/local/lib/python3.10/dist-packages (from tensorflow==2.12.0) (1.23.5)\n",
      "Requirement already satisfied: opt-einsum>=2.3.2 in /usr/local/lib/python3.10/dist-packages (from tensorflow==2.12.0) (3.3.0)\n",
      "Requirement already satisfied: packaging in /usr/local/lib/python3.10/dist-packages (from tensorflow==2.12.0) (23.1)\n",
      "Requirement already satisfied: protobuf!=4.21.0,!=4.21.1,!=4.21.2,!=4.21.3,!=4.21.4,!=4.21.5,<5.0.0dev,>=3.20.3 in /usr/local/lib/python3.10/dist-packages (from tensorflow==2.12.0) (4.24.0)\n",
      "Requirement already satisfied: setuptools in /usr/local/lib/python3.10/dist-packages (from tensorflow==2.12.0) (68.2.2)\n",
      "Requirement already satisfied: six>=1.12.0 in /usr/local/lib/python3.10/dist-packages (from tensorflow==2.12.0) (1.16.0)\n",
      "Requirement already satisfied: tensorboard<2.13,>=2.12 in /usr/local/lib/python3.10/dist-packages (from tensorflow==2.12.0) (2.12.3)\n",
      "Requirement already satisfied: tensorflow-estimator<2.13,>=2.12.0 in /usr/local/lib/python3.10/dist-packages (from tensorflow==2.12.0) (2.12.0)\n",
      "Requirement already satisfied: termcolor>=1.1.0 in /usr/local/lib/python3.10/dist-packages (from tensorflow==2.12.0) (1.1.0)\n",
      "Requirement already satisfied: typing-extensions>=3.6.6 in /usr/local/lib/python3.10/dist-packages (from tensorflow==2.12.0) (4.7.1)\n",
      "Requirement already satisfied: wrapt<1.15,>=1.11.0 in /usr/local/lib/python3.10/dist-packages (from tensorflow==2.12.0) (1.12.1)\n",
      "Requirement already satisfied: tensorflow-io-gcs-filesystem>=0.23.1 in /usr/local/lib/python3.10/dist-packages (from tensorflow==2.12.0) (0.30.0)\n",
      "Requirement already satisfied: wheel<1.0,>=0.23.0 in /usr/local/lib/python3.10/dist-packages (from astunparse>=1.6.0->tensorflow==2.12.0) (0.41.2)\n",
      "Requirement already satisfied: scipy>=1.5 in /usr/local/lib/python3.10/dist-packages (from jax>=0.3.15->tensorflow==2.12.0) (1.11.1)\n",
      "Requirement already satisfied: google-auth<3,>=1.6.3 in /usr/local/lib/python3.10/dist-packages (from tensorboard<2.13,>=2.12->tensorflow==2.12.0) (2.23.2)\n",
      "Requirement already satisfied: google-auth-oauthlib<1.1,>=0.5 in /usr/local/lib/python3.10/dist-packages (from tensorboard<2.13,>=2.12->tensorflow==2.12.0) (1.0.0)\n",
      "Requirement already satisfied: markdown>=2.6.8 in /usr/local/lib/python3.10/dist-packages (from tensorboard<2.13,>=2.12->tensorflow==2.12.0) (3.4.4)\n",
      "Requirement already satisfied: requests<3,>=2.21.0 in /usr/local/lib/python3.10/dist-packages (from tensorboard<2.13,>=2.12->tensorflow==2.12.0) (2.31.0)\n",
      "Requirement already satisfied: tensorboard-data-server<0.8.0,>=0.7.0 in /usr/local/lib/python3.10/dist-packages (from tensorboard<2.13,>=2.12->tensorflow==2.12.0) (0.7.1)\n",
      "Requirement already satisfied: werkzeug>=1.0.1 in /usr/local/lib/python3.10/dist-packages (from tensorboard<2.13,>=2.12->tensorflow==2.12.0) (3.0.0)\n",
      "Requirement already satisfied: cachetools<6.0,>=2.0.0 in /usr/local/lib/python3.10/dist-packages (from google-auth<3,>=1.6.3->tensorboard<2.13,>=2.12->tensorflow==2.12.0) (5.3.1)\n",
      "Requirement already satisfied: pyasn1-modules>=0.2.1 in /usr/local/lib/python3.10/dist-packages (from google-auth<3,>=1.6.3->tensorboard<2.13,>=2.12->tensorflow==2.12.0) (0.3.0)\n",
      "Requirement already satisfied: rsa<5,>=3.1.4 in /usr/local/lib/python3.10/dist-packages (from google-auth<3,>=1.6.3->tensorboard<2.13,>=2.12->tensorflow==2.12.0) (4.9)\n",
      "Requirement already satisfied: requests-oauthlib>=0.7.0 in /usr/local/lib/python3.10/dist-packages (from google-auth-oauthlib<1.1,>=0.5->tensorboard<2.13,>=2.12->tensorflow==2.12.0) (1.3.1)\n",
      "Requirement already satisfied: charset-normalizer<4,>=2 in /usr/local/lib/python3.10/dist-packages (from requests<3,>=2.21.0->tensorboard<2.13,>=2.12->tensorflow==2.12.0) (3.2.0)\n",
      "Requirement already satisfied: idna<4,>=2.5 in /usr/local/lib/python3.10/dist-packages (from requests<3,>=2.21.0->tensorboard<2.13,>=2.12->tensorflow==2.12.0) (3.4)\n",
      "Requirement already satisfied: urllib3<3,>=1.21.1 in /usr/local/lib/python3.10/dist-packages (from requests<3,>=2.21.0->tensorboard<2.13,>=2.12->tensorflow==2.12.0) (1.26.16)\n",
      "Requirement already satisfied: certifi>=2017.4.17 in /usr/local/lib/python3.10/dist-packages (from requests<3,>=2.21.0->tensorboard<2.13,>=2.12->tensorflow==2.12.0) (2023.7.22)\n",
      "Requirement already satisfied: MarkupSafe>=2.1.1 in /usr/local/lib/python3.10/dist-packages (from werkzeug>=1.0.1->tensorboard<2.13,>=2.12->tensorflow==2.12.0) (2.1.3)\n",
      "Requirement already satisfied: pyasn1<0.6.0,>=0.4.6 in /usr/local/lib/python3.10/dist-packages (from pyasn1-modules>=0.2.1->google-auth<3,>=1.6.3->tensorboard<2.13,>=2.12->tensorflow==2.12.0) (0.5.0)\n",
      "Requirement already satisfied: oauthlib>=3.0.0 in /usr/local/lib/python3.10/dist-packages (from requests-oauthlib>=0.7.0->google-auth-oauthlib<1.1,>=0.5->tensorboard<2.13,>=2.12->tensorflow==2.12.0) (3.2.2)\n",
      "Using cached tensorflow-2.12.0-cp310-cp310-manylinux_2_17_x86_64.manylinux2014_x86_64.whl (585.9 MB)\n",
      "\u001b[33mWARNING: Ignoring invalid distribution -ensorflow (/usr/local/lib/python3.10/dist-packages)\u001b[0m\u001b[33m\n",
      "\u001b[0mInstalling collected packages: tensorflow\n",
      "Successfully installed tensorflow-2.12.0\n",
      "\u001b[33mWARNING: Running pip as the 'root' user can result in broken permissions and conflicting behaviour with the system package manager. It is recommended to use a virtual environment instead: https://pip.pypa.io/warnings/venv\u001b[0m\u001b[33m\n",
      "\u001b[0mNote: you may need to restart the kernel to use updated packages.\n"
     ]
    }
   ],
   "source": [
    "pip install tensorflow==2.12.0"
   ]
  },
  {
   "cell_type": "code",
   "execution_count": 3,
   "id": "f6f127ca",
   "metadata": {},
   "outputs": [
    {
     "name": "stdout",
     "output_type": "stream",
     "text": [
      "Device mapping: no known devices.\n"
     ]
    },
    {
     "name": "stderr",
     "output_type": "stream",
     "text": [
      "2024-11-11 08:24:48.702276: I tensorflow/compiler/xla/stream_executor/cuda/cuda_gpu_executor.cc:996] successful NUMA node read from SysFS had negative value (-1), but there must be at least one NUMA node, so returning NUMA node zero. See more at https://github.com/torvalds/linux/blob/v6.0/Documentation/ABI/testing/sysfs-bus-pci#L344-L355\n",
      "2024-11-11 08:24:48.702434: W tensorflow/core/common_runtime/gpu/gpu_device.cc:1956] Cannot dlopen some GPU libraries. Please make sure the missing libraries mentioned above are installed properly if you would like to use GPU. Follow the guide at https://www.tensorflow.org/install/gpu for how to download and setup the required libraries for your platform.\n",
      "Skipping registering GPU devices...\n"
     ]
    }
   ],
   "source": [
    "import os\n",
    "import pandas as pd\n",
    "import numpy as np\n",
    "import seaborn as sns\n",
    "import matplotlib.pyplot as plt\n",
    "from matplotlib.image import imread\n",
    "from tensorflow.keras.preprocessing.image import ImageDataGenerator\n",
    "from tensorflow import keras\n",
    "from tensorflow.keras import layers\n",
    "from tensorflow.keras import utils\n",
    "from tensorflow.keras import models\n",
    "from sklearn.metrics import classification_report,confusion_matrix\n",
    "import tensorflow as tf\n",
    "# to share the GPU resources for multiple sessions\n",
    "from tensorflow.compat.v1.keras.backend import set_session\n",
    "config = tf.compat.v1.ConfigProto()\n",
    "config.gpu_options.allow_growth = True # dynamically grow the memory used on the GPU\n",
    "config.log_device_placement = True # to log device placement (on which device the operation ran)\n",
    "sess = tf.compat.v1.Session(config=config)\n",
    "set_session(sess)\n",
    "\n",
    "%matplotlib inline"
   ]
  },
  {
   "cell_type": "code",
   "execution_count": 10,
   "id": "eac955d0",
   "metadata": {},
   "outputs": [],
   "source": [
    "my_data_dir = 'dataset/cell_images'"
   ]
  },
  {
   "cell_type": "code",
   "execution_count": 11,
   "id": "306abb6a",
   "metadata": {},
   "outputs": [
    {
     "data": {
      "text/plain": [
       "['test', 'train']"
      ]
     },
     "execution_count": 11,
     "metadata": {},
     "output_type": "execute_result"
    }
   ],
   "source": [
    "os.listdir(my_data_dir)"
   ]
  },
  {
   "cell_type": "code",
   "execution_count": 12,
   "id": "fea3317b",
   "metadata": {},
   "outputs": [],
   "source": [
    "test_path = my_data_dir+'/test/'\n",
    "train_path = my_data_dir+'/train/'"
   ]
  },
  {
   "cell_type": "code",
   "execution_count": 13,
   "id": "0c6a93da",
   "metadata": {},
   "outputs": [
    {
     "data": {
      "text/plain": [
       "['parasitized', 'uninfected']"
      ]
     },
     "execution_count": 13,
     "metadata": {},
     "output_type": "execute_result"
    }
   ],
   "source": [
    "os.listdir(train_path)"
   ]
  },
  {
   "cell_type": "code",
   "execution_count": 14,
   "id": "ba241163",
   "metadata": {},
   "outputs": [
    {
     "data": {
      "text/plain": [
       "12479"
      ]
     },
     "execution_count": 14,
     "metadata": {},
     "output_type": "execute_result"
    }
   ],
   "source": [
    "len(os.listdir(train_path+'/uninfected/'))"
   ]
  },
  {
   "cell_type": "code",
   "execution_count": 15,
   "id": "ca719254",
   "metadata": {},
   "outputs": [
    {
     "data": {
      "text/plain": [
       "12479"
      ]
     },
     "execution_count": 15,
     "metadata": {},
     "output_type": "execute_result"
    }
   ],
   "source": [
    "len(os.listdir(train_path+'/parasitized/'))"
   ]
  },
  {
   "cell_type": "code",
   "execution_count": 16,
   "id": "7a4c030a",
   "metadata": {},
   "outputs": [
    {
     "data": {
      "text/plain": [
       "'C182P143NThinF_IMG_20151201_172257_cell_157.png'"
      ]
     },
     "execution_count": 16,
     "metadata": {},
     "output_type": "execute_result"
    }
   ],
   "source": [
    "os.listdir(train_path+'/parasitized')[0]"
   ]
  },
  {
   "cell_type": "code",
   "execution_count": 17,
   "id": "159d1205",
   "metadata": {},
   "outputs": [],
   "source": [
    "para_img= imread(train_path+\n",
    "                 '/parasitized/'+\n",
    "                 os.listdir(train_path+'/parasitized')[0])"
   ]
  },
  {
   "cell_type": "code",
   "execution_count": 18,
   "id": "2ff447cd",
   "metadata": {},
   "outputs": [
    {
     "data": {
      "text/plain": [
       "<matplotlib.image.AxesImage at 0x7f56daa9c850>"
      ]
     },
     "execution_count": 18,
     "metadata": {},
     "output_type": "execute_result"
    },
    {
     "data": {
      "image/png": "[encoded data removed]",
      "text/plain": [
       "<Figure size 640x480 with 1 Axes>"
      ]
     },
     "metadata": {},
     "output_type": "display_data"
    }
   ],
   "source": [
    "plt.imshow(para_img)"
   ]
  },
  {
   "cell_type": "code",
   "execution_count": 20,
   "id": "a760d2f3",
   "metadata": {},
   "outputs": [],
   "source": [
    "dim1 = []\n",
    "dim2 = []\n",
    "for image_filename in os.listdir(test_path+'/uninfected'):\n",
    "    img = imread(test_path+'/uninfected'+'/'+image_filename)\n",
    "    d1,d2,colors = img.shape\n",
    "    dim1.append(d1)\n",
    "    dim2.append(d2)"
   ]
  },
  {
   "cell_type": "code",
   "execution_count": 21,
   "id": "6a709d56",
   "metadata": {},
   "outputs": [
    {
     "data": {
      "text/plain": [
       "<seaborn.axisgrid.JointGrid at 0x7f56daac5f30>"
      ]
     },
     "execution_count": 21,
     "metadata": {},
     "output_type": "execute_result"
    },
    {
     "data": {
      "image/png": "[encoded data removed]",
      "text/plain": [
       "<Figure size 600x600 with 3 Axes>"
      ]
     },
     "metadata": {},
     "output_type": "display_data"
    }
   ],
   "source": [
    "sns.jointplot(x=dim1,y=dim2)"
   ]
  },
  {
   "cell_type": "code",
   "execution_count": 22,
   "id": "efc11ebb",
   "metadata": {},
   "outputs": [],
   "source": [
    "image_shape = (130,130,3)"
   ]
  },
  {
   "cell_type": "code",
   "execution_count": 23,
   "id": "c1e57be3",
   "metadata": {},
   "outputs": [
    {
     "name": "stdout",
     "output_type": "stream",
     "text": [
      "Help on class ImageDataGenerator in module keras.preprocessing.image:\n",
      "\n",
      "class ImageDataGenerator(builtins.object)\n",
      " |  ImageDataGenerator(featurewise_center=False, samplewise_center=False, featurewise_std_normalization=False, samplewise_std_normalization=False, zca_whitening=False, zca_epsilon=1e-06, rotation_range=0, width_shift_range=0.0, height_shift_range=0.0, brightness_range=None, shear_range=0.0, zoom_range=0.0, channel_shift_range=0.0, fill_mode='nearest', cval=0.0, horizontal_flip=False, vertical_flip=False, rescale=None, preprocessing_function=None, data_format=None, validation_split=0.0, interpolation_order=1, dtype=None)\n",
      " |  \n",
      " |  Generate batches of tensor image data with real-time data augmentation.\n",
      " |  \n",
      " |  Deprecated: `tf.keras.preprocessing.image.ImageDataGenerator` is not\n",
      " |  recommended for new code. Prefer loading images with\n",
      " |  `tf.keras.utils.image_dataset_from_directory` and transforming the output\n",
      " |  `tf.data.Dataset` with preprocessing layers. For more information, see the\n",
      " |  tutorials for [loading images](\n",
      " |  https://www.tensorflow.org/tutorials/load_data/images) and\n",
      " |  [augmenting images](\n",
      " |  https://www.tensorflow.org/tutorials/images/data_augmentation), as well as\n",
      " |  the [preprocessing layer guide](\n",
      " |  https://www.tensorflow.org/guide/keras/preprocessing_layers).\n",
      " |  \n",
      " |   The data will be looped over (in batches).\n",
      " |  \n",
      " |  Args:\n",
      " |      featurewise_center: Boolean. Set input mean to 0 over the dataset,\n",
      " |        feature-wise.\n",
      " |      samplewise_center: Boolean. Set each sample mean to 0.\n",
      " |      featurewise_std_normalization: Boolean. Divide inputs by std of the\n",
      " |        dataset, feature-wise.\n",
      " |      samplewise_std_normalization: Boolean. Divide each input by its std.\n",
      " |      zca_epsilon: epsilon for ZCA whitening. Default is 1e-6.\n",
      " |      zca_whitening: Boolean. Apply ZCA whitening.\n",
      " |      rotation_range: Int. Degree range for random rotations.\n",
      " |      width_shift_range: Float, 1-D array-like or int\n",
      " |          - float: fraction of total width, if < 1, or pixels if >= 1.\n",
      " |          - 1-D array-like: random elements from the array.\n",
      " |          - int: integer number of pixels from interval `(-width_shift_range,\n",
      " |            +width_shift_range)` - With `width_shift_range=2` possible values\n",
      " |            are integers `[-1, 0, +1]`, same as with `width_shift_range=[-1,\n",
      " |            0, +1]`, while with `width_shift_range=1.0` possible values are\n",
      " |            floats in the interval [-1.0, +1.0).\n",
      " |      height_shift_range: Float, 1-D array-like or int\n",
      " |          - float: fraction of total height, if < 1, or pixels if >= 1.\n",
      " |          - 1-D array-like: random elements from the array.\n",
      " |          - int: integer number of pixels from interval `(-height_shift_range,\n",
      " |            +height_shift_range)` - With `height_shift_range=2` possible\n",
      " |            values are integers `[-1, 0, +1]`, same as with\n",
      " |            `height_shift_range=[-1, 0, +1]`, while with\n",
      " |            `height_shift_range=1.0` possible values are floats in the\n",
      " |            interval [-1.0, +1.0).\n",
      " |      brightness_range: Tuple or list of two floats. Range for picking a\n",
      " |        brightness shift value from.\n",
      " |      shear_range: Float. Shear Intensity (Shear angle in counter-clockwise\n",
      " |        direction in degrees)\n",
      " |      zoom_range: Float or [lower, upper]. Range for random zoom. If a float,\n",
      " |        `[lower, upper] = [1-zoom_range, 1+zoom_range]`.\n",
      " |      channel_shift_range: Float. Range for random channel shifts.\n",
      " |      fill_mode: One of {\"constant\", \"nearest\", \"reflect\" or \"wrap\"}. Default\n",
      " |        is 'nearest'. Points outside the boundaries of the input are filled\n",
      " |        according to the given mode:\n",
      " |          - 'constant': kkkkkkkk|abcd|kkkkkkkk (cval=k)\n",
      " |          - 'nearest':  aaaaaaaa|abcd|dddddddd\n",
      " |          - 'reflect':  abcddcba|abcd|dcbaabcd\n",
      " |          - 'wrap':  abcdabcd|abcd|abcdabcd\n",
      " |      cval: Float or Int. Value used for points outside the boundaries when\n",
      " |        `fill_mode = \"constant\"`.\n",
      " |      horizontal_flip: Boolean. Randomly flip inputs horizontally.\n",
      " |      vertical_flip: Boolean. Randomly flip inputs vertically.\n",
      " |      rescale: rescaling factor. Defaults to None. If None or 0, no rescaling\n",
      " |        is applied, otherwise we multiply the data by the value provided\n",
      " |        (after applying all other transformations).\n",
      " |      preprocessing_function: function that will be applied on each input. The\n",
      " |        function will run after the image is resized and augmented.\n",
      " |          The function should take one argument: one image (Numpy tensor with\n",
      " |            rank 3), and should output a Numpy tensor with the same shape.\n",
      " |      data_format: Image data format, either \"channels_first\" or\n",
      " |        \"channels_last\". \"channels_last\" mode means that the images should\n",
      " |        have shape `(samples, height, width, channels)`, \"channels_first\" mode\n",
      " |        means that the images should have shape `(samples, channels, height,\n",
      " |        width)`.  It defaults to the `image_data_format` value found in your\n",
      " |        Keras config file at `~/.keras/keras.json`. If you never set it, then\n",
      " |        it will be \"channels_last\".\n",
      " |      validation_split: Float. Fraction of images reserved for validation\n",
      " |        (strictly between 0 and 1).\n",
      " |      dtype: Dtype to use for the generated arrays.\n",
      " |  \n",
      " |  Raises:\n",
      " |    ValueError: If the value of the argument, `data_format` is other than\n",
      " |          `\"channels_last\"` or `\"channels_first\"`.\n",
      " |    ValueError: If the value of the argument, `validation_split` > 1\n",
      " |          or `validation_split` < 0.\n",
      " |  \n",
      " |  Examples:\n",
      " |  \n",
      " |  Example of using `.flow(x, y)`:\n",
      " |  \n",
      " |  ```python\n",
      " |  (x_train, y_train), (x_test, y_test) = cifar10.load_data()\n",
      " |  y_train = utils.to_categorical(y_train, num_classes)\n",
      " |  y_test = utils.to_categorical(y_test, num_classes)\n",
      " |  datagen = ImageDataGenerator(\n",
      " |      featurewise_center=True,\n",
      " |      featurewise_std_normalization=True,\n",
      " |      rotation_range=20,\n",
      " |      width_shift_range=0.2,\n",
      " |      height_shift_range=0.2,\n",
      " |      horizontal_flip=True,\n",
      " |      validation_split=0.2)\n",
      " |  # compute quantities required for featurewise normalization\n",
      " |  # (std, mean, and principal components if ZCA whitening is applied)\n",
      " |  datagen.fit(x_train)\n",
      " |  # fits the model on batches with real-time data augmentation:\n",
      " |  model.fit(datagen.flow(x_train, y_train, batch_size=32,\n",
      " |           subset='training'),\n",
      " |           validation_data=datagen.flow(x_train, y_train,\n",
      " |           batch_size=8, subset='validation'),\n",
      " |           steps_per_epoch=len(x_train) / 32, epochs=epochs)\n",
      " |  # here's a more \"manual\" example\n",
      " |  for e in range(epochs):\n",
      " |      print('Epoch', e)\n",
      " |      batches = 0\n",
      " |      for x_batch, y_batch in datagen.flow(x_train, y_train, batch_size=32):\n",
      " |          model.fit(x_batch, y_batch)\n",
      " |          batches += 1\n",
      " |          if batches >= len(x_train) / 32:\n",
      " |              # we need to break the loop by hand because\n",
      " |              # the generator loops indefinitely\n",
      " |              break\n",
      " |  ```\n",
      " |  \n",
      " |  Example of using `.flow_from_directory(directory)`:\n",
      " |  \n",
      " |  ```python\n",
      " |  train_datagen = ImageDataGenerator(\n",
      " |          rescale=1./255,\n",
      " |          shear_range=0.2,\n",
      " |          zoom_range=0.2,\n",
      " |          horizontal_flip=True)\n",
      " |  test_datagen = ImageDataGenerator(rescale=1./255)\n",
      " |  train_generator = train_datagen.flow_from_directory(\n",
      " |          'data/train',\n",
      " |          target_size=(150, 150),\n",
      " |          batch_size=32,\n",
      " |          class_mode='binary')\n",
      " |  validation_generator = test_datagen.flow_from_directory(\n",
      " |          'data/validation',\n",
      " |          target_size=(150, 150),\n",
      " |          batch_size=32,\n",
      " |          class_mode='binary')\n",
      " |  model.fit(\n",
      " |          train_generator,\n",
      " |          steps_per_epoch=2000,\n",
      " |          epochs=50,\n",
      " |          validation_data=validation_generator,\n",
      " |          validation_steps=800)\n",
      " |  ```\n",
      " |  \n",
      " |  Example of transforming images and masks together.\n",
      " |  \n",
      " |  ```python\n",
      " |  # we create two instances with the same arguments\n",
      " |  data_gen_args = dict(featurewise_center=True,\n",
      " |                       featurewise_std_normalization=True,\n",
      " |                       rotation_range=90,\n",
      " |                       width_shift_range=0.1,\n",
      " |                       height_shift_range=0.1,\n",
      " |                       zoom_range=0.2)\n",
      " |  image_datagen = ImageDataGenerator(**data_gen_args)\n",
      " |  mask_datagen = ImageDataGenerator(**data_gen_args)\n",
      " |  # Provide the same seed and keyword arguments to the fit and flow methods\n",
      " |  seed = 1\n",
      " |  image_datagen.fit(images, augment=True, seed=seed)\n",
      " |  mask_datagen.fit(masks, augment=True, seed=seed)\n",
      " |  image_generator = image_datagen.flow_from_directory(\n",
      " |      'data/images',\n",
      " |      class_mode=None,\n",
      " |      seed=seed)\n",
      " |  mask_generator = mask_datagen.flow_from_directory(\n",
      " |      'data/masks',\n",
      " |      class_mode=None,\n",
      " |      seed=seed)\n",
      " |  # combine generators into one which yields image and masks\n",
      " |  train_generator = zip(image_generator, mask_generator)\n",
      " |  model.fit(\n",
      " |      train_generator,\n",
      " |      steps_per_epoch=2000,\n",
      " |      epochs=50)\n",
      " |  ```\n",
      " |  \n",
      " |  Methods defined here:\n",
      " |  \n",
      " |  __init__(self, featurewise_center=False, samplewise_center=False, featurewise_std_normalization=False, samplewise_std_normalization=False, zca_whitening=False, zca_epsilon=1e-06, rotation_range=0, width_shift_range=0.0, height_shift_range=0.0, brightness_range=None, shear_range=0.0, zoom_range=0.0, channel_shift_range=0.0, fill_mode='nearest', cval=0.0, horizontal_flip=False, vertical_flip=False, rescale=None, preprocessing_function=None, data_format=None, validation_split=0.0, interpolation_order=1, dtype=None)\n",
      " |      Initialize self.  See help(type(self)) for accurate signature.\n",
      " |  \n",
      " |  apply_transform(self, x, transform_parameters)\n",
      " |      Applies a transformation to an image according to given parameters.\n",
      " |      \n",
      " |      Args:\n",
      " |          x: 3D tensor, single image.\n",
      " |          transform_parameters: Dictionary with string - parameter pairs\n",
      " |              describing the transformation.\n",
      " |              Currently, the following parameters\n",
      " |              from the dictionary are used:\n",
      " |              - `'theta'`: Float. Rotation angle in degrees.\n",
      " |              - `'tx'`: Float. Shift in the x direction.\n",
      " |              - `'ty'`: Float. Shift in the y direction.\n",
      " |              - `'shear'`: Float. Shear angle in degrees.\n",
      " |              - `'zx'`: Float. Zoom in the x direction.\n",
      " |              - `'zy'`: Float. Zoom in the y direction.\n",
      " |              - `'flip_horizontal'`: Boolean. Horizontal flip.\n",
      " |              - `'flip_vertical'`: Boolean. Vertical flip.\n",
      " |              - `'channel_shift_intensity'`: Float. Channel shift intensity.\n",
      " |              - `'brightness'`: Float. Brightness shift intensity.\n",
      " |      \n",
      " |      Returns:\n",
      " |          A transformed version of the input (same shape).\n",
      " |  \n",
      " |  fit(self, x, augment=False, rounds=1, seed=None)\n",
      " |      Fits the data generator to some sample data.\n",
      " |      \n",
      " |      This computes the internal data stats related to the\n",
      " |      data-dependent transformations, based on an array of sample data.\n",
      " |      \n",
      " |      Only required if `featurewise_center` or\n",
      " |      `featurewise_std_normalization` or `zca_whitening` are set to True.\n",
      " |      \n",
      " |      When `rescale` is set to a value, rescaling is applied to\n",
      " |      sample data before computing the internal data stats.\n",
      " |      \n",
      " |      Args:\n",
      " |          x: Sample data. Should have rank 4.\n",
      " |           In case of grayscale data,\n",
      " |           the channels axis should have value 1, in case\n",
      " |           of RGB data, it should have value 3, and in case\n",
      " |           of RGBA data, it should have value 4.\n",
      " |          augment: Boolean (default: False).\n",
      " |              Whether to fit on randomly augmented samples.\n",
      " |          rounds: Int (default: 1).\n",
      " |              If using data augmentation (`augment=True`),\n",
      " |              this is how many augmentation passes over the data to use.\n",
      " |          seed: Int (default: None). Random seed.\n",
      " |  \n",
      " |  flow(self, x, y=None, batch_size=32, shuffle=True, sample_weight=None, seed=None, save_to_dir=None, save_prefix='', save_format='png', ignore_class_split=False, subset=None)\n",
      " |      Takes data & label arrays, generates batches of augmented data.\n",
      " |      \n",
      " |      Args:\n",
      " |          x: Input data. Numpy array of rank 4 or a tuple. If tuple, the first\n",
      " |            element should contain the images and the second element another\n",
      " |            numpy array or a list of numpy arrays that gets passed to the\n",
      " |            output without any modifications. Can be used to feed the model\n",
      " |            miscellaneous data along with the images. In case of grayscale\n",
      " |            data, the channels axis of the image array should have value 1, in\n",
      " |            case of RGB data, it should have value 3, and in case of RGBA\n",
      " |            data, it should have value 4.\n",
      " |          y: Labels.\n",
      " |          batch_size: Int (default: 32).\n",
      " |          shuffle: Boolean (default: True).\n",
      " |          sample_weight: Sample weights.\n",
      " |          seed: Int (default: None).\n",
      " |          save_to_dir: None or str (default: None). This allows you to\n",
      " |            optionally specify a directory to which to save the augmented\n",
      " |            pictures being generated (useful for visualizing what you are\n",
      " |            doing).\n",
      " |          save_prefix: Str (default: `''`). Prefix to use for filenames of\n",
      " |            saved pictures (only relevant if `save_to_dir` is set).\n",
      " |          save_format: one of \"png\", \"jpeg\", \"bmp\", \"pdf\", \"ppm\", \"gif\",\n",
      " |            \"tif\", \"jpg\" (only relevant if `save_to_dir` is set). Default:\n",
      " |            \"png\".\n",
      " |          ignore_class_split: Boolean (default: False), ignore difference\n",
      " |            in number of classes in labels across train and validation\n",
      " |            split (useful for non-classification tasks)\n",
      " |          subset: Subset of data (`\"training\"` or `\"validation\"`) if\n",
      " |            `validation_split` is set in `ImageDataGenerator`.\n",
      " |      \n",
      " |      Returns:\n",
      " |          An `Iterator` yielding tuples of `(x, y)`\n",
      " |              where `x` is a numpy array of image data\n",
      " |              (in the case of a single image input) or a list\n",
      " |              of numpy arrays (in the case with\n",
      " |              additional inputs) and `y` is a numpy array\n",
      " |              of corresponding labels. If 'sample_weight' is not None,\n",
      " |              the yielded tuples are of the form `(x, y, sample_weight)`.\n",
      " |              If `y` is None, only the numpy array `x` is returned.\n",
      " |      Raises:\n",
      " |        ValueError: If the Value of the argument, `subset` is other than\n",
      " |              \"training\" or \"validation\".\n",
      " |  \n",
      " |  flow_from_dataframe(self, dataframe, directory=None, x_col='filename', y_col='class', weight_col=None, target_size=(256, 256), color_mode='rgb', classes=None, class_mode='categorical', batch_size=32, shuffle=True, seed=None, save_to_dir=None, save_prefix='', save_format='png', subset=None, interpolation='nearest', validate_filenames=True, **kwargs)\n",
      " |      Takes the dataframe and the path to a directory + generates batches.\n",
      " |      \n",
      " |       The generated batches contain augmented/normalized data.\n",
      " |      \n",
      " |      **A simple tutorial can be found **[here](\n",
      " |                                  http://bit.ly/keras_flow_from_dataframe).\n",
      " |      \n",
      " |      Args:\n",
      " |          dataframe: Pandas dataframe containing the filepaths relative to\n",
      " |              `directory` (or absolute paths if `directory` is None) of the\n",
      " |              images in a string column. It should include other column/s\n",
      " |              depending on the `class_mode`:\n",
      " |              - if `class_mode` is `\"categorical\"` (default value) it must\n",
      " |                  include the `y_col` column with the class/es of each image.\n",
      " |                  Values in column can be string/list/tuple if a single class\n",
      " |                  or list/tuple if multiple classes.\n",
      " |              - if `class_mode` is `\"binary\"` or `\"sparse\"` it must include\n",
      " |                  the given `y_col` column with class values as strings.\n",
      " |              - if `class_mode` is `\"raw\"` or `\"multi_output\"` it should\n",
      " |                  contain the columns specified in `y_col`.\n",
      " |              - if `class_mode` is `\"input\"` or `None` no extra column is\n",
      " |                  needed.\n",
      " |          directory: string, path to the directory to read images from. If\n",
      " |            `None`, data in `x_col` column should be absolute paths.\n",
      " |          x_col: string, column in `dataframe` that contains the filenames (or\n",
      " |            absolute paths if `directory` is `None`).\n",
      " |          y_col: string or list, column/s in `dataframe` that has the target\n",
      " |            data.\n",
      " |          weight_col: string, column in `dataframe` that contains the sample\n",
      " |              weights. Default: `None`.\n",
      " |          target_size: tuple of integers `(height, width)`, default: `(256,\n",
      " |            256)`. The dimensions to which all images found will be resized.\n",
      " |          color_mode: one of \"grayscale\", \"rgb\", \"rgba\". Default: \"rgb\".\n",
      " |            Whether the images will be converted to have 1 or 3 color\n",
      " |            channels.\n",
      " |          classes: optional list of classes (e.g. `['dogs', 'cats']`). Default\n",
      " |            is None. If not provided, the list of classes will be\n",
      " |            automatically inferred from the `y_col`, which will map to the\n",
      " |            label indices, will be alphanumeric). The dictionary containing\n",
      " |            the mapping from class names to class indices can be obtained via\n",
      " |            the attribute `class_indices`.\n",
      " |          class_mode: one of \"binary\", \"categorical\", \"input\", \"multi_output\",\n",
      " |              \"raw\", sparse\" or None. Default: \"categorical\".\n",
      " |              Mode for yielding the targets:\n",
      " |              - `\"binary\"`: 1D numpy array of binary labels,\n",
      " |              - `\"categorical\"`: 2D numpy array of one-hot encoded labels.\n",
      " |                Supports multi-label output.\n",
      " |              - `\"input\"`: images identical to input images (mainly used to\n",
      " |                work with autoencoders),\n",
      " |              - `\"multi_output\"`: list with the values of the different\n",
      " |                columns,\n",
      " |              - `\"raw\"`: numpy array of values in `y_col` column(s),\n",
      " |              - `\"sparse\"`: 1D numpy array of integer labels,\n",
      " |              - `None`, no targets are returned (the generator will only yield\n",
      " |                batches of image data, which is useful to use in\n",
      " |                `model.predict()`).\n",
      " |          batch_size: size of the batches of data (default: 32).\n",
      " |          shuffle: whether to shuffle the data (default: True)\n",
      " |          seed: optional random seed for shuffling and transformations.\n",
      " |          save_to_dir: None or str (default: None). This allows you to\n",
      " |            optionally specify a directory to which to save the augmented\n",
      " |            pictures being generated (useful for visualizing what you are\n",
      " |            doing).\n",
      " |          save_prefix: str. Prefix to use for filenames of saved pictures\n",
      " |            (only relevant if `save_to_dir` is set).\n",
      " |          save_format: one of \"png\", \"jpeg\", \"bmp\", \"pdf\", \"ppm\", \"gif\",\n",
      " |            \"tif\", \"jpg\" (only relevant if `save_to_dir` is set). Default:\n",
      " |            \"png\".\n",
      " |          subset: Subset of data (`\"training\"` or `\"validation\"`) if\n",
      " |            `validation_split` is set in `ImageDataGenerator`.\n",
      " |          interpolation: Interpolation method used to resample the image if\n",
      " |            the target size is different from that of the loaded image.\n",
      " |            Supported methods are `\"nearest\"`, `\"bilinear\"`, and `\"bicubic\"`.\n",
      " |            If PIL version 1.1.3 or newer is installed, `\"lanczos\"` is also\n",
      " |            supported. If PIL version 3.4.0 or newer is installed, `\"box\"` and\n",
      " |            `\"hamming\"` are also supported. By default, `\"nearest\"` is used.\n",
      " |          validate_filenames: Boolean, whether to validate image filenames in\n",
      " |            `x_col`. If `True`, invalid images will be ignored. Disabling this\n",
      " |            option can lead to speed-up in the execution of this function.\n",
      " |            Defaults to `True`.\n",
      " |          **kwargs: legacy arguments for raising deprecation warnings.\n",
      " |      \n",
      " |      Returns:\n",
      " |          A `DataFrameIterator` yielding tuples of `(x, y)`\n",
      " |          where `x` is a numpy array containing a batch\n",
      " |          of images with shape `(batch_size, *target_size, channels)`\n",
      " |          and `y` is a numpy array of corresponding labels.\n",
      " |  \n",
      " |  flow_from_directory(self, directory, target_size=(256, 256), color_mode='rgb', classes=None, class_mode='categorical', batch_size=32, shuffle=True, seed=None, save_to_dir=None, save_prefix='', save_format='png', follow_links=False, subset=None, interpolation='nearest', keep_aspect_ratio=False)\n",
      " |      Takes the path to a directory & generates batches of augmented data.\n",
      " |      \n",
      " |      Args:\n",
      " |          directory: string, path to the target directory. It should contain\n",
      " |            one subdirectory per class. Any PNG, JPG, BMP, PPM or TIF images\n",
      " |            inside each of the subdirectories directory tree will be included\n",
      " |            in the generator. See [this script](\n",
      " |            https://gist.github.com/fchollet/0830affa1f7f19fd47b06d4cf89ed44d)\n",
      " |            for more details.\n",
      " |          target_size: Tuple of integers `(height, width)`, defaults to `(256,\n",
      " |            256)`. The dimensions to which all images found will be resized.\n",
      " |          color_mode: One of \"grayscale\", \"rgb\", \"rgba\". Default: \"rgb\".\n",
      " |            Whether the images will be converted to have 1, 3, or 4 channels.\n",
      " |          classes: Optional list of class subdirectories (e.g. `['dogs',\n",
      " |            'cats']`). Default: None. If not provided, the list of classes\n",
      " |            will be automatically inferred from the subdirectory\n",
      " |            names/structure under `directory`, where each subdirectory will be\n",
      " |            treated as a different class (and the order of the classes, which\n",
      " |            will map to the label indices, will be alphanumeric). The\n",
      " |            dictionary containing the mapping from class names to class\n",
      " |            indices can be obtained via the attribute `class_indices`.\n",
      " |          class_mode: One of \"categorical\", \"binary\", \"sparse\",\n",
      " |              \"input\", or None. Default: \"categorical\".\n",
      " |              Determines the type of label arrays that are returned:\n",
      " |              - \"categorical\" will be 2D one-hot encoded labels,\n",
      " |              - \"binary\" will be 1D binary labels,\n",
      " |                  \"sparse\" will be 1D integer labels,\n",
      " |              - \"input\" will be images identical\n",
      " |                  to input images (mainly used to work with autoencoders).\n",
      " |              - If None, no labels are returned\n",
      " |                (the generator will only yield batches of image data,\n",
      " |                which is useful to use with `model.predict_generator()`).\n",
      " |                Please note that in case of class_mode None,\n",
      " |                the data still needs to reside in a subdirectory\n",
      " |                of `directory` for it to work correctly.\n",
      " |          batch_size: Size of the batches of data (default: 32).\n",
      " |          shuffle: Whether to shuffle the data (default: True) If set to\n",
      " |            False, sorts the data in alphanumeric order.\n",
      " |          seed: Optional random seed for shuffling and transformations.\n",
      " |          save_to_dir: None or str (default: None). This allows you to\n",
      " |            optionally specify a directory to which to save the augmented\n",
      " |            pictures being generated (useful for visualizing what you are\n",
      " |            doing).\n",
      " |          save_prefix: Str. Prefix to use for filenames of saved pictures\n",
      " |            (only relevant if `save_to_dir` is set).\n",
      " |          save_format: one of \"png\", \"jpeg\", \"bmp\", \"pdf\", \"ppm\", \"gif\",\n",
      " |            \"tif\", \"jpg\" (only relevant if `save_to_dir` is set). Default:\n",
      " |            \"png\".\n",
      " |          follow_links: Whether to follow symlinks inside\n",
      " |              class subdirectories (default: False).\n",
      " |          subset: Subset of data (`\"training\"` or `\"validation\"`) if\n",
      " |            `validation_split` is set in `ImageDataGenerator`.\n",
      " |          interpolation: Interpolation method used to resample the image if\n",
      " |            the target size is different from that of the loaded image.\n",
      " |            Supported methods are `\"nearest\"`, `\"bilinear\"`, and `\"bicubic\"`.\n",
      " |            If PIL version 1.1.3 or newer is installed, `\"lanczos\"` is also\n",
      " |            supported. If PIL version 3.4.0 or newer is installed, `\"box\"` and\n",
      " |            `\"hamming\"` are also supported. By default, `\"nearest\"` is used.\n",
      " |          keep_aspect_ratio: Boolean, whether to resize images to a target\n",
      " |            size without aspect ratio distortion. The image is cropped in\n",
      " |            the center with target aspect ratio before resizing.\n",
      " |      \n",
      " |      Returns:\n",
      " |          A `DirectoryIterator` yielding tuples of `(x, y)`\n",
      " |              where `x` is a numpy array containing a batch\n",
      " |              of images with shape `(batch_size, *target_size, channels)`\n",
      " |              and `y` is a numpy array of corresponding labels.\n",
      " |  \n",
      " |  get_random_transform(self, img_shape, seed=None)\n",
      " |      Generates random parameters for a transformation.\n",
      " |      \n",
      " |      Args:\n",
      " |          img_shape: Tuple of integers.\n",
      " |              Shape of the image that is transformed.\n",
      " |          seed: Random seed.\n",
      " |      \n",
      " |      Returns:\n",
      " |          A dictionary containing randomly chosen parameters describing the\n",
      " |          transformation.\n",
      " |  \n",
      " |  random_transform(self, x, seed=None)\n",
      " |      Applies a random transformation to an image.\n",
      " |      \n",
      " |      Args:\n",
      " |          x: 3D tensor, single image.\n",
      " |          seed: Random seed.\n",
      " |      \n",
      " |      Returns:\n",
      " |          A randomly transformed version of the input (same shape).\n",
      " |  \n",
      " |  standardize(self, x)\n",
      " |      Applies the normalization configuration in-place to a batch of\n",
      " |      inputs.\n",
      " |      \n",
      " |      `x` is changed in-place since the function is mainly used internally\n",
      " |      to standardize images and feed them to your network. If a copy of `x`\n",
      " |      would be created instead it would have a significant performance cost.\n",
      " |      If you want to apply this method without changing the input in-place\n",
      " |      you can call the method creating a copy before:\n",
      " |      \n",
      " |      standardize(np.copy(x))\n",
      " |      \n",
      " |      Args:\n",
      " |          x: Batch of inputs to be normalized.\n",
      " |      \n",
      " |      Returns:\n",
      " |          The inputs, normalized.\n",
      " |  \n",
      " |  ----------------------------------------------------------------------\n",
      " |  Data descriptors defined here:\n",
      " |  \n",
      " |  __dict__\n",
      " |      dictionary for instance variables (if defined)\n",
      " |  \n",
      " |  __weakref__\n",
      " |      list of weak references to the object (if defined)\n",
      "\n"
     ]
    }
   ],
   "source": [
    "help(ImageDataGenerator)"
   ]
  },
  {
   "cell_type": "code",
   "execution_count": 24,
   "id": "a500be28",
   "metadata": {},
   "outputs": [],
   "source": [
    "image_gen = ImageDataGenerator(rotation_range=20, # rotate the image 20 degrees\n",
    "                               width_shift_range=0.10, # Shift the pic width by a max of 5%\n",
    "                               height_shift_range=0.10, # Shift the pic height by a max of 5%\n",
    "                               rescale=1/255, # Rescale the image by normalzing it.\n",
    "                               shear_range=0.1, # Shear means cutting away part of the image (max 10%)\n",
    "                               zoom_range=0.1, # Zoom in by 10% max\n",
    "                               horizontal_flip=True, # Allo horizontal flipping\n",
    "                               fill_mode='nearest' # Fill in missing pixels with the nearest filled value\n",
    "                              )"
   ]
  },
  {
   "cell_type": "code",
   "execution_count": 25,
   "id": "3cd26adb",
   "metadata": {},
   "outputs": [
    {
     "name": "stdout",
     "output_type": "stream",
     "text": [
      "Found 24958 images belonging to 2 classes.\n"
     ]
    },
    {
     "data": {
      "text/plain": [
       "<keras.preprocessing.image.DirectoryIterator at 0x7f56d84fbf10>"
      ]
     },
     "execution_count": 25,
     "metadata": {},
     "output_type": "execute_result"
    }
   ],
   "source": [
    "image_gen.flow_from_directory(train_path)"
   ]
  },
  {
   "cell_type": "code",
   "execution_count": 26,
   "id": "302dd635",
   "metadata": {},
   "outputs": [
    {
     "name": "stdout",
     "output_type": "stream",
     "text": [
      "Found 2600 images belonging to 2 classes.\n"
     ]
    },
    {
     "data": {
      "text/plain": [
       "<keras.preprocessing.image.DirectoryIterator at 0x7f56d84fa9e0>"
      ]
     },
     "execution_count": 26,
     "metadata": {},
     "output_type": "execute_result"
    }
   ],
   "source": [
    "image_gen.flow_from_directory(test_path)"
   ]
  },
  {
   "cell_type": "code",
   "execution_count": 27,
   "id": "245175ed",
   "metadata": {},
   "outputs": [
    {
     "name": "stderr",
     "output_type": "stream",
     "text": [
      "2024-11-11 08:39:29.442194: I tensorflow/compiler/xla/stream_executor/cuda/cuda_gpu_executor.cc:996] successful NUMA node read from SysFS had negative value (-1), but there must be at least one NUMA node, so returning NUMA node zero. See more at https://github.com/torvalds/linux/blob/v6.0/Documentation/ABI/testing/sysfs-bus-pci#L344-L355\n",
      "2024-11-11 08:39:29.442410: W tensorflow/core/common_runtime/gpu/gpu_device.cc:1956] Cannot dlopen some GPU libraries. Please make sure the missing libraries mentioned above are installed properly if you would like to use GPU. Follow the guide at https://www.tensorflow.org/install/gpu for how to download and setup the required libraries for your platform.\n",
      "Skipping registering GPU devices...\n"
     ]
    }
   ],
   "source": [
    "model = models.Sequential()\n",
    "\n",
    "# Add convolutional layers\n",
    "model.add(layers.Conv2D(filters=32, kernel_size=(3,3),input_shape=image_shape, activation='relu'))\n",
    "model.add(layers.MaxPooling2D(pool_size=(2, 2)))\n",
    "\n",
    "model.add(layers.Conv2D(filters=64, kernel_size=(3,3),input_shape=image_shape, activation='relu'))\n",
    "model.add(layers.MaxPooling2D(pool_size=(2, 2)))\n",
    "\n",
    "model.add(layers.Conv2D(filters=64, kernel_size=(3,3),input_shape=image_shape, activation='relu'))\n",
    "model.add(layers.MaxPooling2D(pool_size=(2, 2)))\n",
    "\n",
    "# Flatten the layer\n",
    "model.add(layers.Flatten())\n",
    "\n",
    "# Add a dense layer\n",
    "model.add(layers.Dense(128, activation='relu'))\n",
    "\n",
    "# Output layer\n",
    "model.add(layers.Dense(1, activation='sigmoid'))\n",
    "\n",
    "model.compile(loss='binary_crossentropy',\n",
    "              optimizer='adam',\n",
    "              metrics=['accuracy'])"
   ]
  },
  {
   "cell_type": "code",
   "execution_count": 28,
   "id": "9be891c9",
   "metadata": {},
   "outputs": [
    {
     "name": "stdout",
     "output_type": "stream",
     "text": [
      "Model: \"sequential\"\n",
      "_________________________________________________________________\n",
      " Layer (type)                Output Shape              Param #   \n",
      "=================================================================\n",
      " conv2d (Conv2D)             (None, 128, 128, 32)      896       \n",
      "                                                                 \n",
      " max_pooling2d (MaxPooling2D  (None, 64, 64, 32)       0         \n",
      " )                                                               \n",
      "                                                                 \n",
      " conv2d_1 (Conv2D)           (None, 62, 62, 64)        18496     \n",
      "                                                                 \n",
      " max_pooling2d_1 (MaxPooling  (None, 31, 31, 64)       0         \n",
      " 2D)                                                             \n",
      "                                                                 \n",
      " conv2d_2 (Conv2D)           (None, 29, 29, 64)        36928     \n",
      "                                                                 \n",
      " max_pooling2d_2 (MaxPooling  (None, 14, 14, 64)       0         \n",
      " 2D)                                                             \n",
      "                                                                 \n",
      " flatten (Flatten)           (None, 12544)             0         \n",
      "                                                                 \n",
      " dense (Dense)               (None, 128)               1605760   \n",
      "                                                                 \n",
      " dense_1 (Dense)             (None, 1)                 129       \n",
      "                                                                 \n",
      "=================================================================\n",
      "Total params: 1,662,209\n",
      "Trainable params: 1,662,209\n",
      "Non-trainable params: 0\n",
      "_________________________________________________________________\n"
     ]
    }
   ],
   "source": [
    "model.summary()"
   ]
  },
  {
   "cell_type": "code",
   "execution_count": 29,
   "id": "e1734bf6",
   "metadata": {},
   "outputs": [],
   "source": [
    "batch_size = 16"
   ]
  },
  {
   "cell_type": "code",
   "execution_count": 30,
   "id": "be2e4386",
   "metadata": {},
   "outputs": [
    {
     "name": "stdout",
     "output_type": "stream",
     "text": [
      "Help on method flow_from_directory in module keras.preprocessing.image:\n",
      "\n",
      "flow_from_directory(directory, target_size=(256, 256), color_mode='rgb', classes=None, class_mode='categorical', batch_size=32, shuffle=True, seed=None, save_to_dir=None, save_prefix='', save_format='png', follow_links=False, subset=None, interpolation='nearest', keep_aspect_ratio=False) method of keras.preprocessing.image.ImageDataGenerator instance\n",
      "    Takes the path to a directory & generates batches of augmented data.\n",
      "    \n",
      "    Args:\n",
      "        directory: string, path to the target directory. It should contain\n",
      "          one subdirectory per class. Any PNG, JPG, BMP, PPM or TIF images\n",
      "          inside each of the subdirectories directory tree will be included\n",
      "          in the generator. See [this script](\n",
      "          https://gist.github.com/fchollet/0830affa1f7f19fd47b06d4cf89ed44d)\n",
      "          for more details.\n",
      "        target_size: Tuple of integers `(height, width)`, defaults to `(256,\n",
      "          256)`. The dimensions to which all images found will be resized.\n",
      "        color_mode: One of \"grayscale\", \"rgb\", \"rgba\". Default: \"rgb\".\n",
      "          Whether the images will be converted to have 1, 3, or 4 channels.\n",
      "        classes: Optional list of class subdirectories (e.g. `['dogs',\n",
      "          'cats']`). Default: None. If not provided, the list of classes\n",
      "          will be automatically inferred from the subdirectory\n",
      "          names/structure under `directory`, where each subdirectory will be\n",
      "          treated as a different class (and the order of the classes, which\n",
      "          will map to the label indices, will be alphanumeric). The\n",
      "          dictionary containing the mapping from class names to class\n",
      "          indices can be obtained via the attribute `class_indices`.\n",
      "        class_mode: One of \"categorical\", \"binary\", \"sparse\",\n",
      "            \"input\", or None. Default: \"categorical\".\n",
      "            Determines the type of label arrays that are returned:\n",
      "            - \"categorical\" will be 2D one-hot encoded labels,\n",
      "            - \"binary\" will be 1D binary labels,\n",
      "                \"sparse\" will be 1D integer labels,\n",
      "            - \"input\" will be images identical\n",
      "                to input images (mainly used to work with autoencoders).\n",
      "            - If None, no labels are returned\n",
      "              (the generator will only yield batches of image data,\n",
      "              which is useful to use with `model.predict_generator()`).\n",
      "              Please note that in case of class_mode None,\n",
      "              the data still needs to reside in a subdirectory\n",
      "              of `directory` for it to work correctly.\n",
      "        batch_size: Size of the batches of data (default: 32).\n",
      "        shuffle: Whether to shuffle the data (default: True) If set to\n",
      "          False, sorts the data in alphanumeric order.\n",
      "        seed: Optional random seed for shuffling and transformations.\n",
      "        save_to_dir: None or str (default: None). This allows you to\n",
      "          optionally specify a directory to which to save the augmented\n",
      "          pictures being generated (useful for visualizing what you are\n",
      "          doing).\n",
      "        save_prefix: Str. Prefix to use for filenames of saved pictures\n",
      "          (only relevant if `save_to_dir` is set).\n",
      "        save_format: one of \"png\", \"jpeg\", \"bmp\", \"pdf\", \"ppm\", \"gif\",\n",
      "          \"tif\", \"jpg\" (only relevant if `save_to_dir` is set). Default:\n",
      "          \"png\".\n",
      "        follow_links: Whether to follow symlinks inside\n",
      "            class subdirectories (default: False).\n",
      "        subset: Subset of data (`\"training\"` or `\"validation\"`) if\n",
      "          `validation_split` is set in `ImageDataGenerator`.\n",
      "        interpolation: Interpolation method used to resample the image if\n",
      "          the target size is different from that of the loaded image.\n",
      "          Supported methods are `\"nearest\"`, `\"bilinear\"`, and `\"bicubic\"`.\n",
      "          If PIL version 1.1.3 or newer is installed, `\"lanczos\"` is also\n",
      "          supported. If PIL version 3.4.0 or newer is installed, `\"box\"` and\n",
      "          `\"hamming\"` are also supported. By default, `\"nearest\"` is used.\n",
      "        keep_aspect_ratio: Boolean, whether to resize images to a target\n",
      "          size without aspect ratio distortion. The image is cropped in\n",
      "          the center with target aspect ratio before resizing.\n",
      "    \n",
      "    Returns:\n",
      "        A `DirectoryIterator` yielding tuples of `(x, y)`\n",
      "            where `x` is a numpy array containing a batch\n",
      "            of images with shape `(batch_size, *target_size, channels)`\n",
      "            and `y` is a numpy array of corresponding labels.\n",
      "\n"
     ]
    }
   ],
   "source": [
    "help(image_gen.flow_from_directory)"
   ]
  },
  {
   "cell_type": "code",
   "execution_count": 31,
   "id": "b7ed5e51",
   "metadata": {},
   "outputs": [
    {
     "name": "stdout",
     "output_type": "stream",
     "text": [
      "Found 24958 images belonging to 2 classes.\n"
     ]
    }
   ],
   "source": [
    "train_image_gen = image_gen.flow_from_directory(train_path,\n",
    "                                               target_size=image_shape[:2],\n",
    "                                                color_mode='rgb',\n",
    "                                               batch_size=batch_size,\n",
    "                                               class_mode='binary')"
   ]
  },
  {
   "cell_type": "code",
   "execution_count": 32,
   "id": "049906ba",
   "metadata": {},
   "outputs": [
    {
     "data": {
      "text/plain": [
       "16"
      ]
     },
     "execution_count": 32,
     "metadata": {},
     "output_type": "execute_result"
    }
   ],
   "source": [
    "train_image_gen.batch_size"
   ]
  },
  {
   "cell_type": "code",
   "execution_count": 33,
   "id": "89946cbb",
   "metadata": {},
   "outputs": [
    {
     "data": {
      "text/plain": [
       "24958"
      ]
     },
     "execution_count": 33,
     "metadata": {},
     "output_type": "execute_result"
    }
   ],
   "source": [
    "len(train_image_gen.classes)"
   ]
  },
  {
   "cell_type": "code",
   "execution_count": 34,
   "id": "8c15b690",
   "metadata": {},
   "outputs": [
    {
     "data": {
      "text/plain": [
       "0"
      ]
     },
     "execution_count": 34,
     "metadata": {},
     "output_type": "execute_result"
    }
   ],
   "source": [
    "train_image_gen.total_batches_seen"
   ]
  },
  {
   "cell_type": "code",
   "execution_count": 35,
   "id": "e3a4dc55",
   "metadata": {},
   "outputs": [
    {
     "name": "stdout",
     "output_type": "stream",
     "text": [
      "Found 2600 images belonging to 2 classes.\n"
     ]
    }
   ],
   "source": [
    "test_image_gen = image_gen.flow_from_directory(test_path,\n",
    "                                               target_size=image_shape[:2],\n",
    "                                               color_mode='rgb',\n",
    "                                               batch_size=batch_size,\n",
    "                                               class_mode='binary',shuffle=False)"
   ]
  },
  {
   "cell_type": "code",
   "execution_count": 36,
   "id": "ac4ff012",
   "metadata": {},
   "outputs": [
    {
     "data": {
      "text/plain": [
       "{'parasitized': 0, 'uninfected': 1}"
      ]
     },
     "execution_count": 36,
     "metadata": {},
     "output_type": "execute_result"
    }
   ],
   "source": [
    "train_image_gen.class_indices"
   ]
  },
  {
   "cell_type": "code",
   "execution_count": 38,
   "id": "53d7637f",
   "metadata": {},
   "outputs": [
    {
     "name": "stdout",
     "output_type": "stream",
     "text": [
      "Epoch 1/3\n",
      "   1/1560 [..............................] - ETA: 4:25 - loss: 0.3287 - accuracy: 0.9375"
     ]
    },
    {
     "name": "stderr",
     "output_type": "stream",
     "text": [
      "2024-11-11 08:42:01.011084: I tensorflow/core/common_runtime/executor.cc:1197] [/device:CPU:0] (DEBUG INFO) Executor start aborting (this does not indicate an error and you can ignore this message): INVALID_ARGUMENT: You must feed a value for placeholder tensor 'Placeholder/_0' with dtype int32\n",
      "\t [[{{node Placeholder/_0}}]]\n"
     ]
    },
    {
     "name": "stdout",
     "output_type": "stream",
     "text": [
      "1560/1560 [==============================] - ETA: 0s - loss: 0.2330 - accuracy: 0.9238"
     ]
    },
    {
     "name": "stderr",
     "output_type": "stream",
     "text": [
      "2024-11-11 08:45:37.498858: I tensorflow/core/common_runtime/executor.cc:1197] [/device:CPU:0] (DEBUG INFO) Executor start aborting (this does not indicate an error and you can ignore this message): INVALID_ARGUMENT: You must feed a value for placeholder tensor 'Placeholder/_0' with dtype int32\n",
      "\t [[{{node Placeholder/_0}}]]\n"
     ]
    },
    {
     "name": "stdout",
     "output_type": "stream",
     "text": [
      "1560/1560 [==============================] - 234s 150ms/step - loss: 0.2330 - accuracy: 0.9238 - val_loss: 0.1904 - val_accuracy: 0.9385\n",
      "Epoch 2/3\n",
      "1560/1560 [==============================] - 314s 201ms/step - loss: 0.1746 - accuracy: 0.9448 - val_loss: 0.1651 - val_accuracy: 0.9519\n",
      "Epoch 3/3\n",
      "1560/1560 [==============================] - 472s 302ms/step - loss: 0.1621 - accuracy: 0.9492 - val_loss: 0.1510 - val_accuracy: 0.9512\n"
     ]
    }
   ],
   "source": [
    "results = model.fit(train_image_gen,epochs=3,\n",
    "                              validation_data=test_image_gen\n",
    "                             )"
   ]
  },
  {
   "cell_type": "code",
   "execution_count": 39,
   "id": "4dd8fd48",
   "metadata": {},
   "outputs": [],
   "source": [
    "model.save('cell_model.h5')"
   ]
  },
  {
   "cell_type": "code",
   "execution_count": 40,
   "id": "14415649",
   "metadata": {},
   "outputs": [],
   "source": [
    "losses = pd.DataFrame(model.history.history)\n"
   ]
  },
  {
   "cell_type": "code",
   "execution_count": 41,
   "id": "1609cc80",
   "metadata": {},
   "outputs": [
    {
     "data": {
      "text/plain": [
       "<Axes: >"
      ]
     },
     "execution_count": 41,
     "metadata": {},
     "output_type": "execute_result"
    },
    {
     "data": {
      "image/png": "[encoded data removed]",
      "text/plain": [
       "<Figure size 640x480 with 1 Axes>"
      ]
     },
     "metadata": {},
     "output_type": "display_data"
    }
   ],
   "source": [
    "losses[['loss','val_loss']].plot()\n"
   ]
  },
  {
   "cell_type": "code",
   "execution_count": 42,
   "id": "1c42f65b",
   "metadata": {},
   "outputs": [
    {
     "data": {
      "text/plain": [
       "['loss', 'accuracy']"
      ]
     },
     "execution_count": 42,
     "metadata": {},
     "output_type": "execute_result"
    }
   ],
   "source": [
    "model.metrics_names\n"
   ]
  },
  {
   "cell_type": "code",
   "execution_count": 43,
   "id": "d463a1d5",
   "metadata": {},
   "outputs": [
    {
     "name": "stderr",
     "output_type": "stream",
     "text": [
      "2024-11-11 08:59:59.270278: I tensorflow/core/common_runtime/executor.cc:1197] [/device:CPU:0] (DEBUG INFO) Executor start aborting (this does not indicate an error and you can ignore this message): INVALID_ARGUMENT: You must feed a value for placeholder tensor 'Placeholder/_0' with dtype int32\n",
      "\t [[{{node Placeholder/_0}}]]\n"
     ]
    },
    {
     "name": "stdout",
     "output_type": "stream",
     "text": [
      "163/163 [==============================] - 31s 190ms/step - loss: 0.1573 - accuracy: 0.9454\n"
     ]
    },
    {
     "data": {
      "text/plain": [
       "[0.15732260048389435, 0.9453846216201782]"
      ]
     },
     "execution_count": 43,
     "metadata": {},
     "output_type": "execute_result"
    }
   ],
   "source": [
    "model.evaluate(test_image_gen)\n"
   ]
  },
  {
   "cell_type": "code",
   "execution_count": 44,
   "id": "118da67f",
   "metadata": {},
   "outputs": [
    {
     "name": "stderr",
     "output_type": "stream",
     "text": [
      "2024-11-11 09:00:40.447331: I tensorflow/core/common_runtime/executor.cc:1197] [/device:CPU:0] (DEBUG INFO) Executor start aborting (this does not indicate an error and you can ignore this message): INVALID_ARGUMENT: You must feed a value for placeholder tensor 'Placeholder/_0' with dtype int32\n",
      "\t [[{{node Placeholder/_0}}]]\n"
     ]
    },
    {
     "name": "stdout",
     "output_type": "stream",
     "text": [
      "163/163 [==============================] - 31s 189ms/step\n"
     ]
    }
   ],
   "source": [
    "pred_probabilities = model.predict(test_image_gen)\n"
   ]
  },
  {
   "cell_type": "code",
   "execution_count": 45,
   "id": "7b9a4c03",
   "metadata": {},
   "outputs": [
    {
     "data": {
      "text/plain": [
       "array([0, 0, 0, ..., 1, 1, 1], dtype=int32)"
      ]
     },
     "execution_count": 45,
     "metadata": {},
     "output_type": "execute_result"
    }
   ],
   "source": [
    "test_image_gen.classes\n"
   ]
  },
  {
   "cell_type": "code",
   "execution_count": 46,
   "id": "8aa4df2f",
   "metadata": {},
   "outputs": [],
   "source": [
    "predictions = pred_probabilities > 0.5\n"
   ]
  },
  {
   "cell_type": "code",
   "execution_count": 50,
   "id": "d0f166e9",
   "metadata": {},
   "outputs": [
    {
     "name": "stdout",
     "output_type": "stream",
     "text": [
      "Name : Pavithran MJ \n",
      "Reg no: 212223240112\n",
      "              precision    recall  f1-score   support\n",
      "\n",
      "           0       0.96      0.93      0.95      1300\n",
      "           1       0.93      0.96      0.95      1300\n",
      "\n",
      "    accuracy                           0.95      2600\n",
      "   macro avg       0.95      0.95      0.95      2600\n",
      "weighted avg       0.95      0.95      0.95      2600\n",
      "\n"
     ]
    }
   ],
   "source": [
    "print (\"Name : Pavithran MJ \")\n",
    "print (\"Reg no: 212223240112\")\n",
    "print(classification_report(test_image_gen.classes,predictions))\n"
   ]
  },
  {
   "cell_type": "code",
   "execution_count": 51,
   "id": "de6588b4",
   "metadata": {},
   "outputs": [
    {
     "name": "stdout",
     "output_type": "stream",
     "text": [
      "Name : Pavithran MJ \n",
      "Reg no: 212223240112\n"
     ]
    },
    {
     "data": {
      "text/plain": [
       "array([[1208,   92],\n",
       "       [  48, 1252]])"
      ]
     },
     "execution_count": 51,
     "metadata": {},
     "output_type": "execute_result"
    }
   ],
   "source": [
    "print (\"Name : Pavithran MJ \")\n",
    "print (\"Reg no: 212223240112\")\n",
    "confusion_matrix(test_image_gen.classes,predictions)\n"
   ]
  },
  {
   "cell_type": "code",
   "execution_count": 52,
   "id": "608bbd26",
   "metadata": {},
   "outputs": [],
   "source": [
    "import random\n",
    "import tensorflow as tf\n",
    "list_dir=[\"uninfected\"]\n",
    "dir_=(random.choice(list_dir))\n",
    "para_img= imread(train_path+\n",
    "                 '/'+dir_+'/'+\n",
    "                 os.listdir(train_path+'/'+dir_)[random.randint(0,100)])\n",
    "img  = tf.convert_to_tensor(np.asarray(para_img))\n",
    "img = tf.image.resize(img,(130,130))"
   ]
  },
  {
   "cell_type": "code",
   "execution_count": 53,
   "id": "7df2aec5",
   "metadata": {},
   "outputs": [
    {
     "name": "stdout",
     "output_type": "stream",
     "text": [
      "1/1 [==============================] - 0s 264ms/step\n"
     ]
    }
   ],
   "source": [
    "img=img.numpy()\n",
    "pred=bool(model.predict(img.reshape(1,130,130,3))<0.5)"
   ]
  },
  {
   "cell_type": "code",
   "execution_count": 54,
   "id": "c850105b",
   "metadata": {},
   "outputs": [
    {
     "name": "stdout",
     "output_type": "stream",
     "text": [
      "Name : Pavithran MJ \n",
      "Reg no: 212223240112\n"
     ]
    },
    {
     "data": {
      "image/png": "[encoded data removed]",
      "text/plain": [
       "<Figure size 640x480 with 1 Axes>"
      ]
     },
     "metadata": {},
     "output_type": "display_data"
    }
   ],
   "source": [
    "print (\"Name : Pavithran MJ \")\n",
    "print (\"Reg no: 212223240112\")\n",
    "plt.title(\"Model prediction: \"+(\"Parasitized\" if pred  else \"Uninfected\")+\"\\nActual Value: \"+str(dir_))\n",
    "plt.axis(\"off\")\n",
    "plt.imshow(img)\n",
    "plt.show()"
   ]
  },
  {
   "cell_type": "code",
   "execution_count": null,
   "id": "ff781463",
   "metadata": {},
   "outputs": [],
   "source": []
  }
 ],
 "metadata": {
  "kernelspec": {
   "display_name": "Python 3 (ipykernel)",
   "language": "python",
   "name": "python3"
  },
  "language_info": {
   "codemirror_mode": {
    "name": "ipython",
    "version": 3
   },
   "file_extension": ".py",
   "mimetype": "text/x-python",
   "name": "python",
   "nbconvert_exporter": "python",
   "pygments_lexer": "ipython3",
   "version": "3.10.12"
  }
 },
 "nbformat": 4,
 "nbformat_minor": 5
}
